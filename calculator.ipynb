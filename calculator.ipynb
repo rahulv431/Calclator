{
  "nbformat": 4,
  "nbformat_minor": 0,
  "metadata": {
    "colab": {
      "provenance": [],
      "authorship_tag": "ABX9TyPG7d+ZC713YqJ4n1q3VtyP",
      "include_colab_link": true
    },
    "kernelspec": {
      "name": "python3",
      "display_name": "Python 3"
    },
    "language_info": {
      "name": "python"
    }
  },
  "cells": [
    {
      "cell_type": "markdown",
      "metadata": {
        "id": "view-in-github",
        "colab_type": "text"
      },
      "source": [
        "<a href=\"https://colab.research.google.com/github/rahulv431/Calclator/blob/main/calculator.ipynb\" target=\"_parent\"><img src=\"https://colab.research.google.com/assets/colab-badge.svg\" alt=\"Open In Colab\"/></a>"
      ]
    },
    {
      "cell_type": "code",
      "source": [
        "def calculate():\n",
        "    num1, operation , num2 = input()\n",
        "    num1, num2 = float(num1), float(num2)\n",
        "\n",
        "    if operation == '+':\n",
        "        return num1 + num2\n",
        "    elif operation == '-':\n",
        "        return num1 - num2\n",
        "    elif operation == '*':\n",
        "        return num1 * num2\n",
        "    elif operation == '/':\n",
        "        if num2 != 0:\n",
        "            return num1 / num2\n",
        "        else:\n",
        "            return \"Error: Division by zero is not allowed\"\n",
        "    else:\n",
        "        return \"Error: Invalid operation\"\n",
        "\n",
        "print(calculate())"
      ],
      "metadata": {
        "colab": {
          "base_uri": "https://localhost:8080/"
        },
        "id": "QOvyDuIDWORu",
        "outputId": "6b090a4f-7851-4acf-a248-87afb244b4d7"
      },
      "execution_count": 31,
      "outputs": [
        {
          "output_type": "stream",
          "name": "stdout",
          "text": [
            "3-1\n",
            "2.0\n"
          ]
        }
      ]
    },
    {
      "cell_type": "code",
      "source": [
        "def calculate():\n",
        "    num1, operation , num2 = input()\n",
        "    num1, num2 = float(num1), float(num2)\n",
        "\n",
        "    if operation == '+':\n",
        "        return num1 + num2\n",
        "    elif operation == '-':\n",
        "        return num1 - num2\n",
        "    elif operation == '*':\n",
        "        return num1 * num2\n",
        "    elif operation == '/':\n",
        "        if num2 != 0:\n",
        "            return num1 / num2\n",
        "        else:\n",
        "            return \"Error: Division by zero is not allowed\"\n",
        "    else:\n",
        "        return \"Error: Invalid operation\"\n",
        "\n",
        "print(calculate())"
      ],
      "metadata": {
        "id": "0DH6P_DxhwfA"
      },
      "execution_count": null,
      "outputs": []
    },
    {
      "cell_type": "code",
      "source": [
        "class Calculator:\n",
        "  def __init__(self, num1, num2, operation):\n",
        "    self.num1 = num1\n",
        "    self.num2 = num2\n",
        "    self.operation = operation\n",
        "\n",
        "  def calculate(self):\n",
        "    if self.operation == '+':\n",
        "      return self.num1 + self.num2\n",
        "    elif self.operation == '-':\n",
        "      return self.num1 - self.num2\n",
        "    elif self.operation == '*':\n",
        "      return self.num1 * self.num2\n",
        "    elif self.operation == '/':\n",
        "      if self.num2 != 0:\n",
        "        return self.num1 / self.num2\n",
        "      else:\n",
        "        return \"Error: Division by zero is not allowed\"\n",
        "    else:\n",
        "      return \"Error: Invalid operation\"\n",
        "\n",
        "# Create a new Calculator object.\n",
        "calculator = Calculator(10, 5, '-')\n",
        "\n",
        "# Calculate the result.\n",
        "result = calculator.calculate()\n",
        "\n",
        "# Print the result.\n",
        "print(result)"
      ],
      "metadata": {
        "colab": {
          "base_uri": "https://localhost:8080/"
        },
        "id": "51lefRXaWb7S",
        "outputId": "7fcb5117-59a4-4847-9a02-408eb5bf6b60"
      },
      "execution_count": 33,
      "outputs": [
        {
          "output_type": "stream",
          "name": "stdout",
          "text": [
            "5\n"
          ]
        }
      ]
    },
    {
      "cell_type": "code",
      "source": [
        "class Calculator:\n",
        "    def addition(self, num1, num2):\n",
        "        return num1 + num2\n",
        "\n",
        "    def subtraction(self, num1, num2):\n",
        "        return num1 - num2\n",
        "\n",
        "    def multiplication(self, num1, num2):\n",
        "        return num1 * num2\n",
        "\n",
        "    def division(self, num1, num2):\n",
        "        if num2 != 0:\n",
        "            return num1 / num2\n",
        "        else:\n",
        "            return \"Error: Division by zero is not allowed\"\n",
        "\n",
        "calc = Calculator()\n",
        "\n",
        "calc.addition(1,2)\n"
      ],
      "metadata": {
        "colab": {
          "base_uri": "https://localhost:8080/"
        },
        "id": "odA5ANKdnwqB",
        "outputId": "5e41c698-6d03-4803-c3b9-804c7490954e"
      },
      "execution_count": 38,
      "outputs": [
        {
          "output_type": "execute_result",
          "data": {
            "text/plain": [
              "3"
            ]
          },
          "metadata": {},
          "execution_count": 38
        }
      ]
    }
  ]
}